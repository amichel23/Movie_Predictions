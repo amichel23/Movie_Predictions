{
 "cells": [
  {
   "cell_type": "markdown",
   "id": "ea2e57a5",
   "metadata": {},
   "source": [
    "# Predict Movie Box Office Revenue with Linear Regression"
   ]
  },
  {
   "cell_type": "markdown",
   "id": "6032244d",
   "metadata": {},
   "source": [
    "## Formulate the Question\n",
    "\n",
    "How much revenue will the movie make?\n",
    "Can we use movie budget to predict movie revenue?\n",
    "- We will look to see if movie budget will determine how much revenue the movie will make..\n",
    "- Target will be revenue and budget will be the feature\n",
    "- Only using Top 100 movies"
   ]
  },
  {
   "cell_type": "markdown",
   "id": "89c7429b",
   "metadata": {},
   "source": [
    "### Gather the Data"
   ]
  },
  {
   "cell_type": "code",
   "execution_count": 1,
   "id": "8d305abf",
   "metadata": {},
   "outputs": [],
   "source": [
    "import pandas as pd\n",
    "import matplotlib.pyplot as plt\n",
    "from sklearn.linear_model import LinearRegression"
   ]
  },
  {
   "cell_type": "code",
   "execution_count": 2,
   "id": "940a5dbd",
   "metadata": {},
   "outputs": [
    {
     "data": {
      "text/html": [
       "<div>\n",
       "<style scoped>\n",
       "    .dataframe tbody tr th:only-of-type {\n",
       "        vertical-align: middle;\n",
       "    }\n",
       "\n",
       "    .dataframe tbody tr th {\n",
       "        vertical-align: top;\n",
       "    }\n",
       "\n",
       "    .dataframe thead th {\n",
       "        text-align: right;\n",
       "    }\n",
       "</style>\n",
       "<table border=\"1\" class=\"dataframe\">\n",
       "  <thead>\n",
       "    <tr style=\"text-align: right;\">\n",
       "      <th></th>\n",
       "      <th>Released</th>\n",
       "      <th>Title</th>\n",
       "      <th>production_budget</th>\n",
       "      <th>domestic_gross</th>\n",
       "      <th>international_gross</th>\n",
       "      <th>worldwide_gross</th>\n",
       "    </tr>\n",
       "  </thead>\n",
       "  <tbody>\n",
       "    <tr>\n",
       "      <th>0</th>\n",
       "      <td>18-Dec-15</td>\n",
       "      <td>Star Wars Ep. VII: The Force Awakens</td>\n",
       "      <td>306000000.0</td>\n",
       "      <td>936662225.0</td>\n",
       "      <td>1.127954e+09</td>\n",
       "      <td>2.064616e+09</td>\n",
       "    </tr>\n",
       "    <tr>\n",
       "      <th>1</th>\n",
       "      <td>26-Apr-19</td>\n",
       "      <td>Avengers: Endgame</td>\n",
       "      <td>400000000.0</td>\n",
       "      <td>858373000.0</td>\n",
       "      <td>1.939359e+09</td>\n",
       "      <td>2.797732e+09</td>\n",
       "    </tr>\n",
       "    <tr>\n",
       "      <th>2</th>\n",
       "      <td>17-Dec-21</td>\n",
       "      <td>Spider-Man: No Way Home</td>\n",
       "      <td>200000000.0</td>\n",
       "      <td>814108407.0</td>\n",
       "      <td>1.095933e+09</td>\n",
       "      <td>1.910042e+09</td>\n",
       "    </tr>\n",
       "    <tr>\n",
       "      <th>3</th>\n",
       "      <td>18-Dec-09</td>\n",
       "      <td>Avatar</td>\n",
       "      <td>237000000.0</td>\n",
       "      <td>785221649.0</td>\n",
       "      <td>2.114162e+09</td>\n",
       "      <td>2.899384e+09</td>\n",
       "    </tr>\n",
       "    <tr>\n",
       "      <th>4</th>\n",
       "      <td>27-May-22</td>\n",
       "      <td>Top Gun: Maverick</td>\n",
       "      <td>170000000.0</td>\n",
       "      <td>718732821.0</td>\n",
       "      <td>7.700000e+08</td>\n",
       "      <td>1.488733e+09</td>\n",
       "    </tr>\n",
       "    <tr>\n",
       "      <th>...</th>\n",
       "      <td>...</td>\n",
       "      <td>...</td>\n",
       "      <td>...</td>\n",
       "      <td>...</td>\n",
       "      <td>...</td>\n",
       "      <td>...</td>\n",
       "    </tr>\n",
       "    <tr>\n",
       "      <th>95</th>\n",
       "      <td>15-Jul-09</td>\n",
       "      <td>Harry Potter and the Half-Blood Prince</td>\n",
       "      <td>250000000.0</td>\n",
       "      <td>302089278.0</td>\n",
       "      <td>6.273218e+08</td>\n",
       "      <td>9.294111e+08</td>\n",
       "    </tr>\n",
       "    <tr>\n",
       "      <th>96</th>\n",
       "      <td>30-Jun-10</td>\n",
       "      <td>The Twilight Saga: Eclipse</td>\n",
       "      <td>68000000.0</td>\n",
       "      <td>300531751.0</td>\n",
       "      <td>4.055711e+08</td>\n",
       "      <td>7.061028e+08</td>\n",
       "    </tr>\n",
       "    <tr>\n",
       "      <th>97</th>\n",
       "      <td>20-Nov-09</td>\n",
       "      <td>The Twilight Saga: New Moon</td>\n",
       "      <td>50000000.0</td>\n",
       "      <td>296623634.0</td>\n",
       "      <td>3.909341e+08</td>\n",
       "      <td>6.875577e+08</td>\n",
       "    </tr>\n",
       "    <tr>\n",
       "      <th>98</th>\n",
       "      <td>19-Nov-10</td>\n",
       "      <td>Harry Potter and the Deathly Hallows:…</td>\n",
       "      <td>125000000.0</td>\n",
       "      <td>296131568.0</td>\n",
       "      <td>6.556361e+08</td>\n",
       "      <td>9.517677e+08</td>\n",
       "    </tr>\n",
       "    <tr>\n",
       "      <th>99</th>\n",
       "      <td>6-Aug-99</td>\n",
       "      <td>The Sixth Sense</td>\n",
       "      <td>40000000.0</td>\n",
       "      <td>293506292.0</td>\n",
       "      <td>3.793000e+08</td>\n",
       "      <td>6.728063e+08</td>\n",
       "    </tr>\n",
       "  </tbody>\n",
       "</table>\n",
       "<p>100 rows × 6 columns</p>\n",
       "</div>"
      ],
      "text/plain": [
       "     Released                                   Title  production_budget  \\\n",
       "0   18-Dec-15    Star Wars Ep. VII: The Force Awakens        306000000.0   \n",
       "1   26-Apr-19                       Avengers: Endgame        400000000.0   \n",
       "2   17-Dec-21                 Spider-Man: No Way Home        200000000.0   \n",
       "3   18-Dec-09                                  Avatar        237000000.0   \n",
       "4   27-May-22                       Top Gun: Maverick        170000000.0   \n",
       "..        ...                                     ...                ...   \n",
       "95  15-Jul-09  Harry Potter and the Half-Blood Prince        250000000.0   \n",
       "96  30-Jun-10              The Twilight Saga: Eclipse         68000000.0   \n",
       "97  20-Nov-09             The Twilight Saga: New Moon         50000000.0   \n",
       "98  19-Nov-10  Harry Potter and the Deathly Hallows:…        125000000.0   \n",
       "99   6-Aug-99                         The Sixth Sense         40000000.0   \n",
       "\n",
       "    domestic_gross  international_gross  worldwide_gross  \n",
       "0      936662225.0         1.127954e+09     2.064616e+09  \n",
       "1      858373000.0         1.939359e+09     2.797732e+09  \n",
       "2      814108407.0         1.095933e+09     1.910042e+09  \n",
       "3      785221649.0         2.114162e+09     2.899384e+09  \n",
       "4      718732821.0         7.700000e+08     1.488733e+09  \n",
       "..             ...                  ...              ...  \n",
       "95     302089278.0         6.273218e+08     9.294111e+08  \n",
       "96     300531751.0         4.055711e+08     7.061028e+08  \n",
       "97     296623634.0         3.909341e+08     6.875577e+08  \n",
       "98     296131568.0         6.556361e+08     9.517677e+08  \n",
       "99     293506292.0         3.793000e+08     6.728063e+08  \n",
       "\n",
       "[100 rows x 6 columns]"
      ]
     },
     "execution_count": 2,
     "metadata": {},
     "output_type": "execute_result"
    }
   ],
   "source": [
    "data = pd.read_csv('movie_report.csv')\n",
    "data"
   ]
  },
  {
   "cell_type": "markdown",
   "id": "b5ba954f",
   "metadata": {},
   "source": [
    "### Getting rid of all data that doesnt matter\n",
    "- released date, title is not needed"
   ]
  },
  {
   "cell_type": "code",
   "execution_count": 3,
   "id": "444d7a2d",
   "metadata": {},
   "outputs": [],
   "source": [
    "data.drop(columns=['Released','Title'], inplace=True)"
   ]
  },
  {
   "cell_type": "markdown",
   "id": "7e8a79e1",
   "metadata": {},
   "source": [
    "### Checking for NA values within the dataset, gtg!"
   ]
  },
  {
   "cell_type": "code",
   "execution_count": 4,
   "id": "b2184b7f",
   "metadata": {},
   "outputs": [
    {
     "data": {
      "text/plain": [
       "production_budget      0\n",
       "domestic_gross         0\n",
       "international_gross    0\n",
       "worldwide_gross        0\n",
       "dtype: int64"
      ]
     },
     "execution_count": 4,
     "metadata": {},
     "output_type": "execute_result"
    }
   ],
   "source": [
    "data.isna().sum()"
   ]
  },
  {
   "cell_type": "markdown",
   "id": "6eeeabd9",
   "metadata": {},
   "source": [
    "### Data Exploration"
   ]
  },
  {
   "cell_type": "code",
   "execution_count": 5,
   "id": "e46dbbf8",
   "metadata": {},
   "outputs": [
    {
     "data": {
      "text/html": [
       "<div>\n",
       "<style scoped>\n",
       "    .dataframe tbody tr th:only-of-type {\n",
       "        vertical-align: middle;\n",
       "    }\n",
       "\n",
       "    .dataframe tbody tr th {\n",
       "        vertical-align: top;\n",
       "    }\n",
       "\n",
       "    .dataframe thead th {\n",
       "        text-align: right;\n",
       "    }\n",
       "</style>\n",
       "<table border=\"1\" class=\"dataframe\">\n",
       "  <thead>\n",
       "    <tr style=\"text-align: right;\">\n",
       "      <th></th>\n",
       "      <th>production_budget</th>\n",
       "      <th>domestic_gross</th>\n",
       "      <th>international_gross</th>\n",
       "      <th>worldwide_gross</th>\n",
       "    </tr>\n",
       "  </thead>\n",
       "  <tbody>\n",
       "    <tr>\n",
       "      <th>count</th>\n",
       "      <td>1.000000e+02</td>\n",
       "      <td>1.000000e+02</td>\n",
       "      <td>1.000000e+02</td>\n",
       "      <td>1.000000e+02</td>\n",
       "    </tr>\n",
       "    <tr>\n",
       "      <th>mean</th>\n",
       "      <td>1.581930e+08</td>\n",
       "      <td>4.164384e+08</td>\n",
       "      <td>6.324637e+08</td>\n",
       "      <td>1.048902e+09</td>\n",
       "    </tr>\n",
       "    <tr>\n",
       "      <th>std</th>\n",
       "      <td>7.772182e+07</td>\n",
       "      <td>1.316440e+08</td>\n",
       "      <td>3.129517e+08</td>\n",
       "      <td>4.123398e+08</td>\n",
       "    </tr>\n",
       "    <tr>\n",
       "      <th>min</th>\n",
       "      <td>0.000000e+00</td>\n",
       "      <td>2.935063e+08</td>\n",
       "      <td>1.659003e+08</td>\n",
       "      <td>4.751054e+08</td>\n",
       "    </tr>\n",
       "    <tr>\n",
       "      <th>25%</th>\n",
       "      <td>9.400000e+07</td>\n",
       "      <td>3.303079e+08</td>\n",
       "      <td>4.331657e+08</td>\n",
       "      <td>7.965020e+08</td>\n",
       "    </tr>\n",
       "    <tr>\n",
       "      <th>50%</th>\n",
       "      <td>1.700000e+08</td>\n",
       "      <td>3.747668e+08</td>\n",
       "      <td>5.613692e+08</td>\n",
       "      <td>9.572662e+08</td>\n",
       "    </tr>\n",
       "    <tr>\n",
       "      <th>75%</th>\n",
       "      <td>2.000000e+08</td>\n",
       "      <td>4.353413e+08</td>\n",
       "      <td>7.356466e+08</td>\n",
       "      <td>1.130209e+09</td>\n",
       "    </tr>\n",
       "    <tr>\n",
       "      <th>max</th>\n",
       "      <td>4.000000e+08</td>\n",
       "      <td>9.366622e+08</td>\n",
       "      <td>2.114162e+09</td>\n",
       "      <td>2.899384e+09</td>\n",
       "    </tr>\n",
       "  </tbody>\n",
       "</table>\n",
       "</div>"
      ],
      "text/plain": [
       "       production_budget  domestic_gross  international_gross  worldwide_gross\n",
       "count       1.000000e+02    1.000000e+02         1.000000e+02     1.000000e+02\n",
       "mean        1.581930e+08    4.164384e+08         6.324637e+08     1.048902e+09\n",
       "std         7.772182e+07    1.316440e+08         3.129517e+08     4.123398e+08\n",
       "min         0.000000e+00    2.935063e+08         1.659003e+08     4.751054e+08\n",
       "25%         9.400000e+07    3.303079e+08         4.331657e+08     7.965020e+08\n",
       "50%         1.700000e+08    3.747668e+08         5.613692e+08     9.572662e+08\n",
       "75%         2.000000e+08    4.353413e+08         7.356466e+08     1.130209e+09\n",
       "max         4.000000e+08    9.366622e+08         2.114162e+09     2.899384e+09"
      ]
     },
     "execution_count": 5,
     "metadata": {},
     "output_type": "execute_result"
    }
   ],
   "source": [
    "data.describe()"
   ]
  },
  {
   "cell_type": "code",
   "execution_count": 6,
   "id": "3f834a67",
   "metadata": {},
   "outputs": [
    {
     "name": "stdout",
     "output_type": "stream",
     "text": [
      "<class 'pandas.core.frame.DataFrame'>\n",
      "RangeIndex: 100 entries, 0 to 99\n",
      "Data columns (total 4 columns):\n",
      " #   Column               Non-Null Count  Dtype  \n",
      "---  ------               --------------  -----  \n",
      " 0   production_budget    100 non-null    float64\n",
      " 1   domestic_gross       100 non-null    float64\n",
      " 2   international_gross  100 non-null    float64\n",
      " 3   worldwide_gross      100 non-null    float64\n",
      "dtypes: float64(4)\n",
      "memory usage: 3.2 KB\n"
     ]
    }
   ],
   "source": [
    "data.info()"
   ]
  },
  {
   "cell_type": "code",
   "execution_count": 7,
   "id": "7507df2f",
   "metadata": {},
   "outputs": [
    {
     "data": {
      "text/html": [
       "<div>\n",
       "<style scoped>\n",
       "    .dataframe tbody tr th:only-of-type {\n",
       "        vertical-align: middle;\n",
       "    }\n",
       "\n",
       "    .dataframe tbody tr th {\n",
       "        vertical-align: top;\n",
       "    }\n",
       "\n",
       "    .dataframe thead th {\n",
       "        text-align: right;\n",
       "    }\n",
       "</style>\n",
       "<table border=\"1\" class=\"dataframe\">\n",
       "  <thead>\n",
       "    <tr style=\"text-align: right;\">\n",
       "      <th></th>\n",
       "      <th>production_budget</th>\n",
       "      <th>domestic_gross</th>\n",
       "      <th>international_gross</th>\n",
       "      <th>worldwide_gross</th>\n",
       "    </tr>\n",
       "  </thead>\n",
       "  <tbody>\n",
       "    <tr>\n",
       "      <th>0</th>\n",
       "      <td>306000000.0</td>\n",
       "      <td>936662225.0</td>\n",
       "      <td>1.127954e+09</td>\n",
       "      <td>2.064616e+09</td>\n",
       "    </tr>\n",
       "    <tr>\n",
       "      <th>1</th>\n",
       "      <td>400000000.0</td>\n",
       "      <td>858373000.0</td>\n",
       "      <td>1.939359e+09</td>\n",
       "      <td>2.797732e+09</td>\n",
       "    </tr>\n",
       "    <tr>\n",
       "      <th>2</th>\n",
       "      <td>200000000.0</td>\n",
       "      <td>814108407.0</td>\n",
       "      <td>1.095933e+09</td>\n",
       "      <td>1.910042e+09</td>\n",
       "    </tr>\n",
       "    <tr>\n",
       "      <th>3</th>\n",
       "      <td>237000000.0</td>\n",
       "      <td>785221649.0</td>\n",
       "      <td>2.114162e+09</td>\n",
       "      <td>2.899384e+09</td>\n",
       "    </tr>\n",
       "    <tr>\n",
       "      <th>4</th>\n",
       "      <td>170000000.0</td>\n",
       "      <td>718732821.0</td>\n",
       "      <td>7.700000e+08</td>\n",
       "      <td>1.488733e+09</td>\n",
       "    </tr>\n",
       "  </tbody>\n",
       "</table>\n",
       "</div>"
      ],
      "text/plain": [
       "   production_budget  domestic_gross  international_gross  worldwide_gross\n",
       "0        306000000.0     936662225.0         1.127954e+09     2.064616e+09\n",
       "1        400000000.0     858373000.0         1.939359e+09     2.797732e+09\n",
       "2        200000000.0     814108407.0         1.095933e+09     1.910042e+09\n",
       "3        237000000.0     785221649.0         2.114162e+09     2.899384e+09\n",
       "4        170000000.0     718732821.0         7.700000e+08     1.488733e+09"
      ]
     },
     "execution_count": 7,
     "metadata": {},
     "output_type": "execute_result"
    }
   ],
   "source": [
    "data.head()"
   ]
  },
  {
   "cell_type": "code",
   "execution_count": 11,
   "id": "7592e69a",
   "metadata": {},
   "outputs": [],
   "source": [
    "X = data[['production_budget']]\n",
    "y = data['worldwide_gross']"
   ]
  },
  {
   "cell_type": "markdown",
   "id": "1b74496f",
   "metadata": {},
   "source": [
    "### Scatterplot of production budget (x), global revenue (y)"
   ]
  },
  {
   "cell_type": "code",
   "execution_count": 12,
   "id": "ed6b1783",
   "metadata": {},
   "outputs": [
    {
     "data": {
      "text/plain": [
       "(0.0, 450000000.0)"
      ]
     },
     "execution_count": 12,
     "metadata": {},
     "output_type": "execute_result"
    },
    {
     "data": {
      "image/png": "[encoded data removed]",
      "text/plain": [
       "<Figure size 1200x600 with 1 Axes>"
      ]
     },
     "metadata": {},
     "output_type": "display_data"
    }
   ],
   "source": [
    "plt.figure(figsize=(12,6))\n",
    "plt.scatter(X,y, alpha=0.6)\n",
    "plt.title('Film Cost Vs Global Revenue')\n",
    "plt.xlabel('Production Budget $')\n",
    "plt.ylabel('Worldwide Gross $')\n",
    "plt.ylim(0, 3000000000)\n",
    "plt.xlim(0, 450000000)"
   ]
  },
  {
   "cell_type": "markdown",
   "id": "bb2c0314",
   "metadata": {},
   "source": [
    "instatinating an object of linear regression from sklearn and fitting production budget, worldwide gross"
   ]
  },
  {
   "cell_type": "code",
   "execution_count": 13,
   "id": "16a0c2c2",
   "metadata": {},
   "outputs": [
    {
     "data": {
      "text/plain": [
       "LinearRegression()"
      ]
     },
     "execution_count": 13,
     "metadata": {},
     "output_type": "execute_result"
    }
   ],
   "source": [
    "model = LinearRegression()\n",
    "model.fit(X, y)"
   ]
  },
  {
   "cell_type": "markdown",
   "id": "bb8f285b",
   "metadata": {},
   "source": [
    "slope coefficient:"
   ]
  },
  {
   "cell_type": "code",
   "execution_count": 14,
   "id": "05a4bff3",
   "metadata": {},
   "outputs": [
    {
     "data": {
      "text/plain": [
       "array([2.95772309])"
      ]
     },
     "execution_count": 14,
     "metadata": {},
     "output_type": "execute_result"
    }
   ],
   "source": [
    "model.coef_"
   ]
  },
  {
   "cell_type": "markdown",
   "id": "ea91b73c",
   "metadata": {},
   "source": [
    "intercept:"
   ]
  },
  {
   "cell_type": "code",
   "execution_count": 15,
   "id": "a11e4c41",
   "metadata": {},
   "outputs": [
    {
     "data": {
      "text/plain": [
       "581011010.4003456"
      ]
     },
     "execution_count": 15,
     "metadata": {},
     "output_type": "execute_result"
    }
   ],
   "source": [
    "model.intercept_"
   ]
  },
  {
   "cell_type": "markdown",
   "id": "931e04fb",
   "metadata": {},
   "source": [
    "### Scatterplot of production budget (x), global revenue (y) w/ line of best fit"
   ]
  },
  {
   "cell_type": "code",
   "execution_count": 19,
   "id": "b094d81d",
   "metadata": {},
   "outputs": [
    {
     "data": {
      "text/plain": [
       "(0.0, 450000000.0)"
      ]
     },
     "execution_count": 19,
     "metadata": {},
     "output_type": "execute_result"
    },
    {
     "data": {
      "image/png": "[encoded data removed]",
      "text/plain": [
       "<Figure size 1200x600 with 1 Axes>"
      ]
     },
     "metadata": {},
     "output_type": "display_data"
    }
   ],
   "source": [
    "plt.figure(figsize=(12,6))\n",
    "plt.scatter(X,y, alpha=0.6)\n",
    "plt.plot(X, model.predict(X), color='red', linewidth=3)\n",
    "plt.title('Film Cost Vs Global Revenue')\n",
    "plt.xlabel('Production Budget $')\n",
    "plt.ylabel('Worldwide Gross $')\n",
    "plt.ylim(0, 3000000000)\n",
    "plt.xlim(0, 450000000)"
   ]
  },
  {
   "cell_type": "markdown",
   "id": "3a88323b",
   "metadata": {},
   "source": [
    "Shows that this model does not follow the movement of the realworld data. But this model was only built on 100 top movies with a few outliers, like the Avengers and Avatar."
   ]
  },
  {
   "cell_type": "code",
   "execution_count": 23,
   "id": "6a3904ce",
   "metadata": {},
   "outputs": [
    {
     "data": {
      "text/plain": [
       "0.31080681064339377"
      ]
     },
     "execution_count": 23,
     "metadata": {},
     "output_type": "execute_result"
    }
   ],
   "source": [
    "model.score(X,y)"
   ]
  },
  {
   "cell_type": "code",
   "execution_count": null,
   "id": "7291f0ad",
   "metadata": {},
   "outputs": [],
   "source": []
  },
  {
   "cell_type": "code",
   "execution_count": null,
   "id": "41e2ac2e",
   "metadata": {},
   "outputs": [],
   "source": []
  },
  {
   "cell_type": "code",
   "execution_count": null,
   "id": "54f3b782",
   "metadata": {},
   "outputs": [],
   "source": []
  }
 ],
 "metadata": {
  "kernelspec": {
   "display_name": "Python 3 (ipykernel)",
   "language": "python",
   "name": "python3"
  },
  "language_info": {
   "codemirror_mode": {
    "name": "ipython",
    "version": 3
   },
   "file_extension": ".py",
   "mimetype": "text/x-python",
   "name": "python",
   "nbconvert_exporter": "python",
   "pygments_lexer": "ipython3",
   "version": "3.9.13"
  }
 },
 "nbformat": 4,
 "nbformat_minor": 5
}
